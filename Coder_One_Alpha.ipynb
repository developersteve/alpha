{
  "nbformat": 4,
  "nbformat_minor": 0,
  "metadata": {
    "colab": {
      "name": "Coder_One_Alpha.ipynb",
      "provenance": [],
      "collapsed_sections": [],
      "toc_visible": true,
      "include_colab_link": true
    },
    "kernelspec": {
      "name": "python3",
      "display_name": "Python 3"
    }
  },
  "cells": [
    {
      "cell_type": "markdown",
      "metadata": {
        "id": "view-in-github",
        "colab_type": "text"
      },
      "source": [
        "<a href=\"https://colab.research.google.com/github/gocoderone/alpha/blob/master/Coder_One_Alpha.ipynb\" target=\"_parent\"><img src=\"https://colab.research.google.com/assets/colab-badge.svg\" alt=\"Open In Colab\"/></a>"
      ]
    },
    {
      "cell_type": "markdown",
      "metadata": {
        "id": "jYEj7D4_-dMp",
        "colab_type": "text"
      },
      "source": [
        "# Thank you for being a part of our Alpha Test! 🙌\n",
        "\n",
        "We're on a mission to build the future home of 'AI Sports', showcasing the most talented minds in tech and connect them with top tech companies. Your feedback will be immensely helpful to us in designing a better experience for our users at [Coder One](https://gocoder.one)!\n",
        "\n",
        "This notebook will walk you through the steps to get your first bot up and running in our original AI multiplayer game (codename: Rook). At the end of it, we'd love to get 15 minutes of your time to complete a quick survey or have a chat with us to get your feedback. This will help us better understand what you're looking for from the AI Sports platform we're building at Coder One.\n",
        "\n",
        "To thank you for your time and feedback, we'll gift you some custom swag at our [AI Sports Challenge](https://gocoder.one/aisports). 🙏\n",
        "\n",
        "Ready? Let's get started! 🦾🤖"
      ]
    },
    {
      "cell_type": "markdown",
      "metadata": {
        "id": "SbmmsAkpYs5j",
        "colab_type": "text"
      },
      "source": [
        "# Rook 🏰\n",
        "\n",
        "> *You've found yourself in a castle filled with traps... and treasures! Unfortunately you're not the only one here... and who knows how long these crumbling floors will hold up?*\n",
        "\n",
        "In **Rook** you control an explorer navigating an abandoned castle. Your goal is to destroy as many treasure-containing blocks as possible within the time limit - while avoiding getting hit yourself!\n",
        "\n",
        "![Rook - try refreshing the page to load the image correctly](https://drive.google.com/uc?id=1noFmhedkc8pzGWlxhiDcLoXZADkhveYs)"
      ]
    },
    {
      "cell_type": "markdown",
      "metadata": {
        "id": "gcXv9pWrrsgd",
        "colab_type": "text"
      },
      "source": [
        "##Game rules\n",
        "*   Each game lasts **200** turns. If you manage to make it to the end of the game safely, the winner is determined by the number of **points** you've scored.\n",
        "*   Score points by destroying blocks. Destroy blocks using bombs. Each block destroyed grants you **+1 point**.\n",
        "*   On each turn, you can either move up ⬆️, left ⬅️, down ⬇️ or right ➡️, place a bomb 💣, or do nothing. Making an invalid move (i.e. walking into a tile with a hole, block, or other player) will **lose you 10 points**.\n",
        "*   In this version of the game, you can place up to **1** bomb at any one time. Bombs will explode **5** turns after they've been placed, and destroy any player or blocks to the immediate top, left, right or left-side of it.\n"
      ]
    },
    {
      "cell_type": "markdown",
      "metadata": {
        "id": "btBi90d_g-fB",
        "colab_type": "text"
      },
      "source": [
        "## Environment information\n",
        "Note that this game environment and your agent's code will need to be written in **Python**.\n",
        "\n",
        "This section contains some useful information on the environment, which you'll need to communicate with the game to control your bot (aka your 'agent'). Feel free to skim through this part for now, and come back to it later when you need more details to code your bot.\n",
        "\n",
        "### Map 🗺️\n",
        "The map in this game is represented by a numpy **array**. It is fed to your agent as the variable 'state', containing all the information about the current state of the game map. Each value in the array corresponds to a certain object on the map:\n",
        "\n",
        "```\n",
        "0: empty tile\n",
        "1: player 1 (pink)\n",
        "2: player 2 (orange)\n",
        "3: destructible block\n",
        "4: hole / indestructible block\n",
        "5: bomb\n",
        "6: both player 1 and a bomb on the tile\n",
        "7: both player 2 and a bomb on the tile\n",
        "8: an exploding bomb\n",
        "9: a tile within range of a bomb's explosion\n",
        "```\n",
        "Below is an example of the array your agent receives each turn.\n",
        "\n",
        "![Map representation - try refreshing the page to load the image correctly](https://drive.google.com/uc?id=1HieLyzwGMlBAPEnpiada2wbaBn5yZirE)\n",
        "\n",
        "Interpreting the map correctly will be critical for implementing your bot's strategy!\n",
        "\n",
        "### Actions 🕹️\n",
        "Actions are represented by a **number** value:\n",
        "\n",
        "```\n",
        "DO NOTHING = 0\n",
        "MOVE LEFT = 1\n",
        "MOVE RIGHT = 2\n",
        "MOVE UP = 3\n",
        "MOVE DOWN = 4\n",
        "PLACE A BOMB = 5\n",
        "```\n",
        "You must return a **number** value corresponding to the action you wish to make.\n",
        "Note that trying to make an illegal move (see **game rules** above) will lose you points.\n",
        "\n",
        "\n",
        "### Objects and classes \n",
        "There are two types of objects with unique properties that are available for you to call on: the **agents** (both yours and your opponent's), and the **bombs** on the map.\n",
        "\n",
        "*   **Agents/players** 🤖\n",
        "\n",
        "The class object 'player' has the following properties:\n",
        "\n",
        "```\n",
        "number: Either 0 or 1, corresponds to player 1 and player 2 (type: int)\n",
        "position: The current position of the agent, as an (x,y) index of the map (type: tuple)\n",
        "bombs: Bomb objects that the agent has placed on the board, as a list (type: class object)\n",
        "num_bombs: Number of bombs the agent has available to place on the board (type: int)\n",
        "score: The current score of that agent (type: int)\n",
        "```\n",
        "\n",
        "*   **Bombs** 💣\n",
        "\n",
        "The bombs placed on the map are stored in the player's \"bombs\" property as a list. Each individual bomb is a class object with the following properties:\n",
        "\n",
        "```\n",
        "timer: (type: int)\n",
        "    The current timer left on the bomb. \n",
        "    Once this reaches 0, it will explode after both agents have completed their turns.\n",
        "position: (type: tuple)\n",
        "    The current position of that bomb on the map as an (x,y) index of the map.\n",
        "owned_by: (type: int)\n",
        "    Which player originally placed the bomb. \n",
        "    Either 1 or 2, corresponding to the player number.\n",
        "recently_exploded: (type: Bool)\n",
        "    True if the the bomb exploded on the previous turn. \n",
        "    False otherwise.\n",
        "tiles_in_range: (type: list (of tuples))\n",
        "    The tiles that will be destroyed once this bomb explodes.\n",
        "```\n"
      ]
    },
    {
      "cell_type": "markdown",
      "metadata": {
        "id": "5kZZJmpkVMlP",
        "colab_type": "text"
      },
      "source": [
        "# Installation 💽\n",
        "\n",
        "For this Alpha test tutorial, you can choose to either follow along within this notebook, or run it locally on your own computer. Note that if you're running it locally, we've only tested it for compatibility with Windows and Linux. \n",
        "\n",
        "1. Start by copying this notebook to your own drive by clicking the 'Copy to Drive' button on the header bar ☝️\n",
        "\n",
        "2. Head over to our Github repo: https://github.com/gocoderone/alpha and download the 'coder_one_alpha_v02.zip' file. This package contains all the Python scripts for the game.\n",
        "\n"
      ]
    },
    {
      "cell_type": "code",
      "metadata": {
        "id": "jNn_uyokbCJr",
        "colab_type": "code",
        "colab": {
          "base_uri": "https://localhost:8080/",
          "height": 119
        },
        "outputId": "f45afe52-fa24-4217-91be-b75e8d0614ff"
      },
      "source": [
        "! git clone --recursive https://github.com/gocoderone/alpha.git"
      ],
      "execution_count": null,
      "outputs": [
        {
          "output_type": "stream",
          "text": [
            "Cloning into 'alpha'...\n",
            "remote: Enumerating objects: 32, done.\u001b[K\n",
            "remote: Counting objects: 100% (32/32), done.\u001b[K\n",
            "remote: Compressing objects: 100% (31/31), done.\u001b[K\n",
            "remote: Total 32 (delta 14), reused 0 (delta 0), pack-reused 0\u001b[K\n",
            "Unpacking objects: 100% (32/32), done.\n"
          ],
          "name": "stdout"
        }
      ]
    },
    {
      "cell_type": "markdown",
      "metadata": {
        "id": "iQjsuDFChMj6",
        "colab_type": "text"
      },
      "source": [
        "**Option 1:** Mount your Google Drive (More reliable but takes more time to set up)\n",
        "1. Upload the 'coder_one_alpha_v02.zip' file to your main Google Drive."
      ]
    },
    {
      "cell_type": "markdown",
      "metadata": {
        "id": "l4GglJXcXzuH",
        "colab_type": "text"
      },
      "source": [
        "\n",
        "3. Install some dependancies. You can do this by simply running the cells below (Shift + Enter or just click the 'play' button when hovering over the cell)."
      ]
    },
    {
      "cell_type": "code",
      "metadata": {
        "id": "M_p8fhfMX36y",
        "colab_type": "code",
        "colab": {
          "base_uri": "https://localhost:8080/",
          "height": 34
        },
        "outputId": "a7375917-2080-4216-caa2-f3645a49ac95"
      },
      "source": [
        "!pip install numpy # numpy is a popular Python package for working with arrays: https://numpy.org/\n",
        "# below we're importing our python scripts into this Google Colab notebook for you to access\n",
        "!cp \"drive/My Drive/alpha_v02/bm_multi_env.py\" .\n",
        "!cp \"drive/My Drive/alpha_v02/flee_agent.py\" .\n",
        "!cp \"drive/My Drive/alpha_v02/lookahead_agent.py\" .\n",
        "!cp \"drive/My Drive/alpha_v02/random_agent.py\" .\n",
        "!cp \"drive/My Drive/alpha_v02/multi_agent_handler.py\" .\n",
        "!cp -r \"drive/My Drive/alpha_v02/img/\" ."
      ],
      "execution_count": null,
      "outputs": [
        {
          "output_type": "stream",
          "text": [
            "Requirement already satisfied: numpy in /usr/local/lib/python3.6/dist-packages (1.18.5)\n"
          ],
          "name": "stdout"
        }
      ]
    },
    {
      "cell_type": "code",
      "metadata": {
        "id": "iY7Bx2FJbmeQ",
        "colab_type": "code",
        "colab": {
          "base_uri": "https://localhost:8080/",
          "height": 34
        },
        "outputId": "4c536667-a9c3-42c4-fe3e-b3d53cd3d105"
      },
      "source": [
        "from google.colab import drive\n",
        "drive.mount('/content/drive')"
      ],
      "execution_count": null,
      "outputs": [
        {
          "output_type": "stream",
          "text": [
            "Drive already mounted at /content/drive; to attempt to forcibly remount, call drive.mount(\"/content/drive\", force_remount=True).\n"
          ],
          "name": "stdout"
        }
      ]
    },
    {
      "cell_type": "markdown",
      "metadata": {
        "id": "kuNmqFkkhRxe",
        "colab_type": "text"
      },
      "source": [
        "Option 2: Download the game package from our Github: "
      ]
    },
    {
      "cell_type": "code",
      "metadata": {
        "id": "hLakQU0afd3F",
        "colab_type": "code",
        "colab": {
          "base_uri": "https://localhost:8080/",
          "height": 68
        },
        "outputId": "90095ec4-8579-4fbf-beee-cd69dd33ee80"
      },
      "source": [
        "%cd alpha\n",
        "\n",
        "from bm_multi_env import * # our functions and methods for the game\n",
        "import numpy as np # used to define our map\n",
        "import lookahead_agent # our opponent bot\n",
        "import random # used to help our bot sample random moves\n",
        "from time import sleep # used to help with displaying the game\n",
        "from IPython.display import display, clear_output   # used to help with displaying the game"
      ],
      "execution_count": 3,
      "outputs": [
        {
          "output_type": "stream",
          "text": [
            "[Errno 2] No such file or directory: 'alpha'\n",
            "/content/alpha\n",
            "/content/alpha\n"
          ],
          "name": "stdout"
        }
      ]
    },
    {
      "cell_type": "markdown",
      "metadata": {
        "id": "bkHnO8scrkIt",
        "colab_type": "text"
      },
      "source": [
        "# Level 1: Getting Started 🥉 (30 min)\n",
        "Our first goal will be to write your first bot and get you familiar with the game environment. Let's go!\n",
        "\n",
        "\n"
      ]
    },
    {
      "cell_type": "markdown",
      "metadata": {
        "id": "LOcpjDWmlMnK",
        "colab_type": "text"
      },
      "source": [
        "**Step 1:** Start by **initiating** the Rook game environment. Do this by running the cell below."
      ]
    },
    {
      "cell_type": "code",
      "metadata": {
        "id": "XB9UOJfjlXlL",
        "colab_type": "code",
        "colab": {}
      },
      "source": [
        "env = Game(5,7) # this will create the game environment, at a size of 5x7 tiles.\n",
        "\n",
        "# Set the play time\n",
        "num_episodes = 3    # The number of games we'll play. Best of 3 wins!\n",
        "max_turns = 200     # The number of steps or turns our bots will make before the game ends.\n",
        "\n",
        "# Set the bots in play\n",
        "agent2 = lookahead_agent # This is our bot. You can take a look at the code behind this later :)"
      ],
      "execution_count": null,
      "outputs": []
    },
    {
      "cell_type": "markdown",
      "metadata": {
        "id": "kGZ02LCsYE7k",
        "colab_type": "text"
      },
      "source": [
        "3. Let's run a test game! For this, we'll just walk you through creating a bot that will just choose moves at random. \n",
        "\n",
        "First, we need to choose an action for our bot to take."
      ]
    },
    {
      "cell_type": "code",
      "metadata": {
        "id": "zvQuwCrLfC_M",
        "colab_type": "code",
        "colab": {}
      },
      "source": [
        "# this is a list of the available actions you can take.\n",
        "# each value corresponds to a move (see game rules above)\n",
        "# 0 = do nothing, 1 = move left, 2 = move right, 3 = move up, 4 = move down, 5 = place a bomb\n",
        "list_of_actions = [0,1,2,3,4,5]"
      ],
      "execution_count": null,
      "outputs": []
    },
    {
      "cell_type": "code",
      "metadata": {
        "id": "mDl0XeCIoXBy",
        "colab_type": "code",
        "colab": {}
      },
      "source": [
        "# this is the action we'll tell our bot to do.\n",
        "# for our random bot, we're just going to sample a random action from the list available.\n",
        "# if you're already familiar with Python, have a go at filling in the line below\n",
        "# (or move on to the block below for spoilers)\n",
        "action = None # change this"
      ],
      "execution_count": null,
      "outputs": []
    },
    {
      "cell_type": "markdown",
      "metadata": {
        "id": "g8UMY6fHpI2x",
        "colab_type": "text"
      },
      "source": [
        "We'll wrap the code above inside of a function that our game will call on each turn to see what move our bot wants to take."
      ]
    },
    {
      "cell_type": "code",
      "metadata": {
        "id": "9QjSIPwjooih",
        "colab_type": "code",
        "colab": {}
      },
      "source": [
        "# this is the function that will define our bot's behaviour\n",
        "# each turn, the game will call this function and expect an action \n",
        "def agent(state, done, bombs, turn, player):\n",
        "\n",
        "  # your bot will receive some information from the game environment that it can use to process its next move.\n",
        "  # we'll skip this for now.\n",
        "\n",
        "\tname = \"a bot has no name\" # name your bot! \n",
        "\tlist_of_actions = [0,1,2,3,4,5]\n",
        "\taction = random.choice(list_of_actions)\n",
        "\treturn action, name"
      ],
      "execution_count": null,
      "outputs": []
    },
    {
      "cell_type": "markdown",
      "metadata": {
        "id": "71HQ2R5eqZsk",
        "colab_type": "text"
      },
      "source": [
        "Below is the general structure for running the game. It will call on the function we just defined earlier.\n",
        "\n",
        "Have a read-through if you wish (but not necessary, you've done all the hard work in coding your bot already), then run the block to watch your random bot play! (You will play as the Pink bot starting on the left)\n",
        "\n",
        "![Player 1 - try refreshing the page to load the image correctly](https://drive.google.com/uc?id=1YfQ_5Eib5s0QOAtBtSkMLUCT3tGf5jOI)"
      ]
    },
    {
      "cell_type": "code",
      "metadata": {
        "id": "Bim6A-7KqjGR",
        "colab_type": "code",
        "colab": {
          "base_uri": "https://localhost:8080/",
          "height": 265
        },
        "outputId": "9cc85901-fd60-4842-8eb0-adafd087eb82"
      },
      "source": [
        "# we'll play 3 games in total \n",
        "for _ in range(num_episodes):\n",
        "\n",
        "\t# initialize the map & players\n",
        "\tstate, players = env.reset()\n",
        "\t\n",
        "\t# initialise some variables related to the bomb behaviour\n",
        "\tbomb_list = []\n",
        "\tbomb_timer = env.MAX_TIMER\n",
        "\n",
        "\t# initialize variables\n",
        "\tdone = False\t\t\t\t\t# indicates whether or not the game is over\n",
        "\tturn = 0\t\t\t\t\t\t\t# tracks the number of turns in the game\n",
        "\n",
        "\trewards = [0,0] \t\t\t# stores rewards received by agents per turn\n",
        "\ttotal_rewards = [0,0] # stores cumulative rewards received\n",
        "\t\n",
        "\t# play through the game until it ends\n",
        "\twhile not done:\n",
        "\n",
        "\t\tclear_output(wait=True) # helps with displaying the game in Colab\n",
        "\n",
        "\t\t# get player one's action (you)\n",
        "\t\tp1_action, p1_bot = agent(state, done, bomb_list, turn, player=players[0])\n",
        "\t\t# get player two's action\n",
        "\t\t# this is our agent. You can take a look at the code behind this later :)\n",
        "\t\tp2_action, p2_bot = lookahead_agent.agent(state, done, bomb_list, turn, player=players[1])\n",
        "\n",
        "\t\t# collect actions made\n",
        "\t\tactions = [p1_action, p2_action]\n",
        "\t\t# perform the actions on the environment\n",
        "\t\t# receive back the new information from the environment\n",
        "\t\tstate, done, players, bomb_list = env.step(actions)\n",
        "\n",
        "\t\t# render the game\n",
        "\t\tenv.render(True) # set this to False to display the game in an ASCII format instead\n",
        "\n",
        "\t\t# game over print the results\n",
        "\t\tif done:\n",
        "\t\t\tif players[0].score > players[1].score:\n",
        "\t\t\t\tprint(f\" Game over. {p1_bot} wins.\")\n",
        "\t\t\telif players[0].score < players[1].score:\n",
        "\t\t\t\tprint(f\" Game over. {p2_bot} wins.\")\n",
        "\t\t\telse:\n",
        "\t\t\t\tprint(\"Game over. It's a tie.\")\n",
        "\t\t\tsleep(3)\n",
        "\t\t\tbreak\n",
        "\n",
        "\t\tturn += 1 # update turn tracker\n",
        "\n",
        "\t\tsleep(1) # helps with displaying the game"
      ],
      "execution_count": null,
      "outputs": [
        {
          "output_type": "display_data",
          "data": {
            "image/png": "[encoded data removed]",
            "text/plain": [
              "<Figure size 432x288 with 1 Axes>"
            ]
          },
          "metadata": {
            "tags": [],
            "needs_background": "light"
          }
        },
        {
          "output_type": "stream",
          "text": [
            " Game over. a bot has no name wins.\n"
          ],
          "name": "stdout"
        }
      ]
    },
    {
      "cell_type": "markdown",
      "metadata": {
        "id": "NN8IHsXOrbCr",
        "colab_type": "text"
      },
      "source": [
        "Clearly not the smartest bot.\n",
        "Here's where you come in - time to powerup your bot. 🦾🤖"
      ]
    },
    {
      "cell_type": "markdown",
      "metadata": {
        "id": "h8gPkoM1r2PG",
        "colab_type": "text"
      },
      "source": [
        "# Level 2: Responding to the Environment 🥈 (1 hr)\n",
        "\n",
        "Our previous bot chose an action at random, without thinking about what was going on around it at all. \n",
        "\n",
        "In this section, we'll walk you through a simple bot that:\n",
        "1. Makes a random move\n",
        "2. If it's placed a bomb on the board, it will try to find a tile nearby that will be safe to hide from the bomb.\n",
        "3. If there was no where safe to go, it will just make a random move and hope for the best 🤞\n",
        "4. Waits until the bomb has exploded before repeating steps 1 - 3."
      ]
    },
    {
      "cell_type": "markdown",
      "metadata": {
        "id": "EpU57fFvrgKA",
        "colab_type": "text"
      },
      "source": [
        "**Step 1: Understand game environment variables**\n",
        "\n",
        "This would be a good time to go back and check out the 'environment information' section at the start of this notebook.\n",
        "\n",
        "In the previous section, you may have noticed that your agent function receives the following inputs from the game:\n",
        "\n",
        "```\n",
        "(state, done, bombs, turn, player)\n",
        "```\n",
        "\n",
        "The most important for you will likely be:\n",
        "\n",
        "*   **state**: the current game map as a numpy array\n",
        "*   **player**: your agent as an object with information such as your current position (as a tuple (x,y)), and any bombs you've placed on the map (as a list of tuple positions of the bombs).\n",
        "\n",
        "We'll walk you through how to use these. Start by running the cell below to load a new game."
      ]
    },
    {
      "cell_type": "code",
      "metadata": {
        "id": "MUDEu4xSveuh",
        "colab_type": "code",
        "colab": {}
      },
      "source": [
        "# preloading some game information for you\n",
        "env = Game(5,7)\n",
        "state, players = env.reset()\n",
        "player = players[0] # players contains information on both player 1 and player 2\n",
        "                    # your agent will only receive information on player 1\n",
        "\n",
        "# playing out some sequence of moves for you\n",
        "actions = [5,0]\n",
        "env.step(actions)\n",
        "actions = [2,0]\n",
        "state, _, players, _ = env.step(actions)"
      ],
      "execution_count": null,
      "outputs": []
    },
    {
      "cell_type": "markdown",
      "metadata": {
        "id": "T2FkcIFsv8Va",
        "colab_type": "text"
      },
      "source": [
        "To give you an idea of what types of variable we're working with, run the cell below to print the output of the state and player:"
      ]
    },
    {
      "cell_type": "code",
      "metadata": {
        "id": "FvoxQBXIwCmf",
        "colab_type": "code",
        "colab": {
          "base_uri": "https://localhost:8080/",
          "height": 119
        },
        "outputId": "aa45bf45-bf32-4d3d-b352-fe3542b7fa4a"
      },
      "source": [
        "print(state)\n",
        "print(player)"
      ],
      "execution_count": null,
      "outputs": [
        {
          "output_type": "stream",
          "text": [
            "[[5 1 0 3 3 0 0]\n",
            " [0 4 3 4 0 4 3]\n",
            " [0 3 0 0 0 3 0]\n",
            " [3 4 3 4 0 4 0]\n",
            " [3 0 3 0 0 0 2]]\n",
            "<bm_multi_env.Player object at 0x7f8a64a33dd8>\n"
          ],
          "name": "stdout"
        }
      ]
    },
    {
      "cell_type": "markdown",
      "metadata": {
        "id": "0RHhi81qweQC",
        "colab_type": "text"
      },
      "source": [
        "As you can see, the player is an object which we can't directly call to get any useful information from. Let's try and get the player's current position from this."
      ]
    },
    {
      "cell_type": "code",
      "metadata": {
        "id": "QQ90FnW6xKfh",
        "colab_type": "code",
        "colab": {
          "base_uri": "https://localhost:8080/",
          "height": 34
        },
        "outputId": "b1771532-5529-481d-f07c-c1390f9becfe"
      },
      "source": [
        "curr_pos = player.position # 'position' is an attribute of the 'player' class object\n",
        "print(curr_pos)"
      ],
      "execution_count": null,
      "outputs": [
        {
          "output_type": "stream",
          "text": [
            "(0, 1)\n"
          ],
          "name": "stdout"
        }
      ]
    },
    {
      "cell_type": "markdown",
      "metadata": {
        "id": "28whnPGWxpKg",
        "colab_type": "text"
      },
      "source": [
        "Nice 🙂 We got (0,1) which is an (x,y) index of the map meaning row 0, column 1. You can see that in the state array, it shows the value '1' which corresponds to Player 1 (you).\n",
        "\n",
        "To get you more familiar, here are some examples of useful calls for you to fill out:"
      ]
    },
    {
      "cell_type": "code",
      "metadata": {
        "id": "rxfcMyZ8yGNi",
        "colab_type": "code",
        "colab": {
          "base_uri": "https://localhost:8080/",
          "height": 34
        },
        "outputId": "193d30c3-a17f-41c8-ca94-e4145b02e4f0"
      },
      "source": [
        "# get your player number (hint: check the Environment Information section)\n",
        "# it is represented by an attribute 'number' of the class object 'player'\n",
        "player_number = None # change this\n",
        "\n",
        "print(player_number) # this should return '0'"
      ],
      "execution_count": null,
      "outputs": [
        {
          "output_type": "stream",
          "text": [
            "None\n"
          ],
          "name": "stdout"
        }
      ]
    },
    {
      "cell_type": "code",
      "metadata": {
        "id": "Ff2Aq-PiyztI",
        "colab_type": "code",
        "colab": {
          "base_uri": "https://localhost:8080/",
          "height": 34
        },
        "outputId": "c829ce95-f189-43c6-db0d-4415d6ccd7dc"
      },
      "source": [
        "# return the position of the bomb your agent placed\n",
        "# bombs are stored in the 'bombs' attribute of the class object 'player'\n",
        "# first, print the list of bombs your player has placed\n",
        "bomb_list = None # change this\n",
        "\n",
        "print(bomb_list) # this should print a list of bomb objects"
      ],
      "execution_count": null,
      "outputs": [
        {
          "output_type": "stream",
          "text": [
            "[<bm_multi_env.Bomb object at 0x7f8a64a33b38>]\n"
          ],
          "name": "stdout"
        }
      ]
    },
    {
      "cell_type": "code",
      "metadata": {
        "id": "PBNoyLRY0xKL",
        "colab_type": "code",
        "colab": {
          "base_uri": "https://localhost:8080/",
          "height": 34
        },
        "outputId": "cd624577-f44e-476d-b93c-be235252c302"
      },
      "source": [
        "# next, get the position of this bomb object\n",
        "# the position is stored in the 'position' attribute of the class object 'bomb'\n",
        "# (hint: you'll need to grab the first bomb object in the list)\n",
        "bomb_pos = None # change this\n",
        "\n",
        "print(bomb_pos) # this should return (0,0)"
      ],
      "execution_count": null,
      "outputs": [
        {
          "output_type": "stream",
          "text": [
            "None\n"
          ],
          "name": "stdout"
        }
      ]
    },
    {
      "cell_type": "code",
      "metadata": {
        "id": "uSixg2YL1ZxD",
        "colab_type": "code",
        "colab": {
          "base_uri": "https://localhost:8080/",
          "height": 34
        },
        "outputId": "5c7fa5cb-4c63-464c-ca17-a9e61a188bc8"
      },
      "source": [
        "# here's a one-line way of repeating the above:\n",
        "bomb_pos = player.bombs[0].position\n",
        "print(bomb_pos)"
      ],
      "execution_count": null,
      "outputs": [
        {
          "output_type": "stream",
          "text": [
            "(0, 0)\n"
          ],
          "name": "stdout"
        }
      ]
    },
    {
      "cell_type": "code",
      "metadata": {
        "id": "byUT_n5m12fa",
        "colab_type": "code",
        "colab": {
          "base_uri": "https://localhost:8080/",
          "height": 34
        },
        "outputId": "d95a739a-44fc-4f6d-a3b8-cbf6103ba2fb"
      },
      "source": [
        "# finally, let's return the value of a certain tile of the map\n",
        "# let's say, the tile at (1,1)\n",
        "value_at_1_1 = state[None] # change this\n",
        "print(value_at_1_1) # this should return '4' i.e. a hole on the map"
      ],
      "execution_count": null,
      "outputs": [
        {
          "output_type": "stream",
          "text": [
            "4\n"
          ],
          "name": "stdout"
        }
      ]
    },
    {
      "cell_type": "code",
      "metadata": {
        "id": "B66p9WUH2UYq",
        "colab_type": "code",
        "colab": {
          "base_uri": "https://localhost:8080/",
          "height": 34
        },
        "outputId": "993b07f6-8fb7-4c88-c849-3678bd799fc3"
      },
      "source": [
        "# we can combine the techniques above to return the state of the map, i.e.:\n",
        "print(state[player.position]) # returns 1 (i.e. player 1 on a tile)"
      ],
      "execution_count": null,
      "outputs": [
        {
          "output_type": "stream",
          "text": [
            "1\n"
          ],
          "name": "stdout"
        }
      ]
    },
    {
      "cell_type": "markdown",
      "metadata": {
        "id": "UJc1Hc2O3MpA",
        "colab_type": "text"
      },
      "source": [
        "**Step 2: Define helper functions**\n",
        "\n",
        "Great! Now that we're more familiar with the game environment, we're going to define some helper functions that will help our bot understand information from the game environment.\n",
        "\n",
        "Firstly, in order for our bot to make effective moves, it will need to know what its immediate surroundings are. Our first helper function, will return us a list of of our surrounding tiles.\n",
        "\n",
        "To do this, we'll take advantage of the array-representation of the map:\n",
        "\n",
        "![Position indices - try refreshing the page to load the image correctly](https://drive.google.com/uc?id=183tKV4JdEC7KizP0QxnIb0WSiDQ38ePT)"
      ]
    },
    {
      "cell_type": "markdown",
      "metadata": {
        "id": "MWbDEjCi4CSM",
        "colab_type": "text"
      },
      "source": [
        "In the code below, we've left you some gaps to fill out. Don't worry if you get stuck - we'll provide you with the full code at the end of this section."
      ]
    },
    {
      "cell_type": "code",
      "metadata": {
        "id": "4j558kNgTGhX",
        "colab_type": "code",
        "colab": {}
      },
      "source": [
        "# given a tile location as an (x,y) tuple, this function\n",
        "# will return the surrounding tiles up, down, left and to the right as a list\n",
        "# (i.e. [(x1,y1), (x2,y2),...])\n",
        "# as long as they do not cross the edge of the map\n",
        "def get_surrounding_tiles(state, position):\n",
        "\n",
        "\t# store some useful information about our environment\n",
        "\trows = state.shape[0]\n",
        "\tcols = state.shape[1]\n",
        "\n",
        "\t# find all the surrounding tiles relative to us\n",
        "\t# position[0] = row index; position[1] = col index\n",
        "\ttile_up = (position[0]-1,position[1]) \n",
        "\ttile_down = None \t\t ################ FILL THIS ###################\n",
        "\ttile_left = None     ################ FILL THIS ###################\n",
        "\ttile_right = (position[0],position[1]+1)\t\t \n",
        "\n",
        "\t# combine these into a list\n",
        "\tsurrounding_tiles = [tile_up, tile_down, tile_left, tile_right]\n",
        "\n",
        "\t# create a list to store tiles we can't move to\n",
        "\t# (ones that cross the borders of the map, and holes)\n",
        "\ttiles_to_remove = [] \n",
        "\n",
        "\t# loop through surrounding tiles\n",
        "\tfor tile in surrounding_tiles:\n",
        "\t\t# i.e. that tile would go off the edge of the map\n",
        "\t\tif (tile[0] < 0 or tile[1] < 0 or tile[0] >= rows or tile[1] >= cols or \n",
        "\t\t\tstate[tile] == 4):\n",
        "\t\t\t# add illegal tiles to our list\n",
        "\t\t\ttiles_to_remove.append(tile)\n",
        "\n",
        "\t# loop through the tiles we're going to exclude\n",
        "\t# and remove them from our original list of tiles\n",
        "\tfor tile in tiles_to_remove:\n",
        "\t\tsurrounding_tiles.remove(tile)\n",
        "\n",
        "\treturn surrounding_tiles"
      ],
      "execution_count": null,
      "outputs": []
    },
    {
      "cell_type": "markdown",
      "metadata": {
        "id": "5cYjWclY5VB4",
        "colab_type": "text"
      },
      "source": [
        "The 'get_surrounding_tiles' function will be useful for checking around us for any hazards.\n",
        "\n",
        "In order for our bot to move effectively, it will also need to know which of these tiles are actually free (i.e. not containing a block or hole, or other player):"
      ]
    },
    {
      "cell_type": "code",
      "metadata": {
        "id": "qveqLbz5Z8nk",
        "colab_type": "code",
        "colab": {}
      },
      "source": [
        "# given a list of tiles\n",
        "# return the ones which are actually empty\n",
        "def get_empty_tiles(list_of_tiles):\n",
        "  \n",
        "  # make a list where we'll store our empty tiles\n",
        "  empty_tiles = []\n",
        "\n",
        "  for tile in list_of_tiles:\n",
        "    if state[tile] == None: ################ FILL THIS ###################\n",
        "                            # hint: which number corresponds to 'empty' on the map?\n",
        "      # that tile is empty, so add it to the list\n",
        "      empty_tiles.append(tile)\n",
        "\n",
        "  return empty_tiles"
      ],
      "execution_count": null,
      "outputs": []
    },
    {
      "cell_type": "markdown",
      "metadata": {
        "id": "1bznnhY96nap",
        "colab_type": "text"
      },
      "source": [
        "Cool🙂 Now we want to build some 'smarts' into our bot. We don't want our bot to be moving into any tile that's within range of a bomb, so let's define a function that returns us some 'safe' tiles to move to. No need to fill out anything here, but feel free to read through the code to understand how we're doing this."
      ]
    },
    {
      "cell_type": "code",
      "metadata": {
        "id": "83XT1QEq6gyt",
        "colab_type": "code",
        "colab": {}
      },
      "source": [
        "# given a list of tiles, and the bomb's position on the map\n",
        "# return only the tiles which are not within 1 tile of the bomb\n",
        "def get_safe_tiles(list_of_tiles, bomb_pos):\n",
        "  \n",
        "  # make a list where we'll store our safe tiles \n",
        "  safe_tiles = []\n",
        "\n",
        "  # loop the tiles\n",
        "  for tile in list_of_tiles:\n",
        "    # subtract the coordinates of the current tile and bomb\n",
        "    # diff will give us the 'distance' to the bomb\n",
        "    diff = tuple(x-y for x, y in zip(tile, bomb_pos)) \n",
        "    if diff in [(0,1),(1,0),(0,-1),(-1,0),(0,0)]:\n",
        "      # this tile is adjacent to a bomb\n",
        "      pass\n",
        "    else:\n",
        "      # otherwise, the tile should be safe\n",
        "      safe_tiles.append(tile)\n",
        "\n",
        "  return safe_tiles"
      ],
      "execution_count": null,
      "outputs": []
    },
    {
      "cell_type": "markdown",
      "metadata": {
        "id": "t7nyA2958F5K",
        "colab_type": "text"
      },
      "source": [
        "Final helper function!\n",
        "\n",
        "Now that we know which tiles we want to move to, we need a function that will actually return us the ***correct action which will move us there***."
      ]
    },
    {
      "cell_type": "code",
      "metadata": {
        "id": "kRCYojh88HP3",
        "colab_type": "code",
        "colab": {}
      },
      "source": [
        "# given an adjacent tile location, move us there\n",
        "def move_to_tile(position, tile):\n",
        "\n",
        "  # a useful dictionary for our actions\n",
        "  actions = ['none','left','right','up','down','bomb']\n",
        "  action_id = [0,1,2,3,4,5]\n",
        "  d_actions = dict(zip(actions,action_id))\n",
        "\n",
        "  # see where the tile is relative to our current location\n",
        "  diff = tuple(x-y for x, y in zip(position, tile))\n",
        "\n",
        "  # return the action that moves in the direction of the tile\n",
        "  if diff == (0,1):\n",
        "    action = d_actions['left']\n",
        "  elif diff == (1,0):\n",
        "    action = None     ################ FILL THIS ###################\n",
        "  elif diff == (0,-1):\n",
        "    action = None     ################ FILL THIS ###################\n",
        "  elif diff == (-1,0):\n",
        "    action = d_actions['down']\n",
        "\n",
        "  return action"
      ],
      "execution_count": null,
      "outputs": []
    },
    {
      "cell_type": "markdown",
      "metadata": {
        "id": "zt0oP6lnaQTq",
        "colab_type": "text"
      },
      "source": [
        "**Step 3: Bring it all together!**\n",
        "\n",
        "Hang in there - we're almost ready to watch our new bot play!\n",
        "\n",
        "We've provided the skeleton code below to help you piece together your new bot.\n",
        "Alternatively, our version of this 'flee' bot is available in the files as 'flee_agent.py'."
      ]
    },
    {
      "cell_type": "code",
      "metadata": {
        "id": "IMwaKtvEtPHM",
        "colab_type": "code",
        "colab": {
          "base_uri": "https://localhost:8080/",
          "height": 34
        },
        "outputId": "98127e79-ee81-449a-bdbf-e5732930ea25"
      },
      "source": [
        "%%writefile my_bot.py\n",
        "def agent(state, done, bombs, turn, player):\n",
        "\n",
        "\timport random\n",
        "\n",
        "\t########################\n",
        "\t###    VARIABLES     ###\n",
        "\t########################\n",
        "\n",
        "\t# as player 1, the map representation of us standing on a tile with a bomb\n",
        "\t# is different to player 2's - so we'll store this value here for reference\n",
        "\tplayer_on_bomb_id = 6\n",
        "\n",
        "\t# you can also move some of the other variables out of the helper functions\n",
        "\t# such as dictionary of actions, or size of the map here if you wish\n",
        "\n",
        "\t########################\n",
        "\t###     HELPERS      ###\n",
        "\t########################\n",
        "\n",
        "\t# copy your helper functions here!\n",
        "\n",
        "\t########################\n",
        "\t###      AGENT       ###\n",
        "\t########################\n",
        "\n",
        "\t# first, check if we've placed some bombs on the map\n",
        "\tif player.bombs:\n",
        "\t\t# if our 'player' object has bomb objects on them\n",
        "\t\t# that means we've placed a bomb, so let's run away.\n",
        "\n",
        "\t\t# get the bomb's position\n",
        "\t\tbomb_pos = None\t\t\t################ FILL THIS ################### \t\n",
        "\n",
        "\t\t# get a list of our surrounding tiles\n",
        "\t\tsurrounding_tiles = get_surrounding_tiles(state, player.position)\n",
        "\n",
        "\t\t# get a list of the available tiles we can actually move to\n",
        "\t\tempty_tiles = None\t################ FILL THIS ################### \n",
        "\n",
        "\t\t# get a list of the safe tiles we should move to\n",
        "\t\tsafe_tiles = None\t################ FILL THIS ###################\n",
        "\n",
        "\t\t# check if we're on the bomb\n",
        "\t\tif state[player.position] == player_on_bomb_id:\n",
        "\t\t\t# we're on a bomb\n",
        "\t\t\t# let's move to an empty slot\n",
        "\t\t\tif empty_tiles:\n",
        "\t\t\t\trandom_tile = random.choice(empty_tiles)\n",
        "\t\t\t\taction = move_to_tile(player.position, random_tile)\n",
        "\t\t\telse:\n",
        "\t\t\t\t# there aren't any empty tiles to go to\n",
        "\t\t\t\t# we're probably done for.\n",
        "\t\t\t\taction = d_actions['none']\n",
        "\t\telse:\n",
        "\t\t\t# we're not on a bomb\n",
        "\t\t\t# check if we're next to a bomb\n",
        "\t\t\tfor tile in surrounding_tiles:\n",
        "\t\t\t\tif (tile[0] == bomb_pos[0]) and (tile[1] == bomb_pos[1]):\n",
        "\t\t\t\t\t# we're next to a bomb\n",
        "\t\t\t\t\t# move to a random safe tile (if there are any)\n",
        "\t\t\t\t\tif safe_tiles:\n",
        "\t\t\t\t\t\trandom_tile = None\t################ FILL THIS ###################\n",
        "\t\t\t\t\t\taction = None\t\t\t\t################ FILL THIS ###################\n",
        "\t\t\t\t\t\tbreak\n",
        "\t\t\t\t\telse:\n",
        "\t\t\t\t\t\t# there isn't a guaranteed safe tile near us\n",
        "\t\t\t\t\t\t# choose a move at random\n",
        "\t\t\t\t\t\taction = d_actions[random.choice(actions)]\n",
        "\t\t\t\t\t\tbreak\n",
        "\t\t\telse:\n",
        "\t\t\t\t# there isn't a bomb nearby\n",
        "\t\t\t\t# we're probably safe so lets stay here\n",
        "\t\t\t\taction = d_actions['none']\n",
        "\n",
        "\telse:\n",
        "\t\t# no bombs in play, take a random action\n",
        "\t\taction = None\t\t\t\t################ FILL THIS ###################\n",
        "\n",
        "\tname = \"flee bot\" # name your bot!\n",
        "\treturn action, name"
      ],
      "execution_count": null,
      "outputs": [
        {
          "output_type": "stream",
          "text": [
            "Writing my_bot.py\n"
          ],
          "name": "stdout"
        }
      ]
    },
    {
      "cell_type": "markdown",
      "metadata": {
        "id": "EW-MhoGG_uhK",
        "colab_type": "text"
      },
      "source": [
        "Great job! Let's watch our bots play now.\n",
        "We'll use the same game structure as we did before in Level 1."
      ]
    },
    {
      "cell_type": "code",
      "metadata": {
        "id": "cyUiYhCAADPN",
        "colab_type": "code",
        "colab": {
          "base_uri": "https://localhost:8080/",
          "height": 351
        },
        "outputId": "93660f56-1673-40de-eb05-8f4884a575ab"
      },
      "source": [
        "import my_bot\n",
        "#import flee_agent           # un-comment this if you want to watch our bot instead\n",
        "players_agent = my_bot  # CHANGE THIS TO flee_agent if you're watching our bot instead of yours\n",
        "\n",
        "# we'll play 3 games in total \n",
        "for _ in range(num_episodes):\n",
        "\n",
        "\t# initialize the map & players\n",
        "\tstate, players = env.reset()\n",
        "\t\n",
        "\t# initialise some variables related to the bomb behaviour\n",
        "\tbomb_list = []\n",
        "\tbomb_timer = env.MAX_TIMER\n",
        "\n",
        "\t# initialize variables\n",
        "\tdone = False\t\t\t\t\t# indicates whether or not the game is over\n",
        "\tturn = 0\t\t\t\t\t\t\t# tracks the number of turns in the game\n",
        "\n",
        "\trewards = [0,0] \t\t\t# stores rewards received by agents per turn\n",
        "\ttotal_rewards = [0,0] # stores cumulative rewards received\n",
        "\t\n",
        "\t# play through the game until it ends\n",
        "\twhile not done:\n",
        "\n",
        "\t\tclear_output(wait=True) # helps with displaying the game in Colab\n",
        "\n",
        "\t\t# get player one's action (you)\n",
        "\t\tp1_action, p1_bot = players_agent.agent(state, done, bomb_list, turn, player=players[0])\n",
        "\t\t# get player two's action\n",
        "\t\t# this is our agent. You can take a look at the code behind this later :)\n",
        "\t\tp2_action, p2_bot = lookahead_agent.agent(state, done, bomb_list, turn, player=players[1])\n",
        "\n",
        "\t\t# collect actions made\n",
        "\t\tactions = [p1_action, p2_action]\n",
        "\t\t# perform the actions on the environment\n",
        "\t\t# receive back the new information from the environment\n",
        "\t\tstate, done, players, bomb_list = env.step(actions)\n",
        "\n",
        "\t\t# render the game\n",
        "\t\tenv.render(True) # set this to False to display the game in an ASCII format instead\n",
        "\n",
        "\t\t# game over print the results\n",
        "\t\tif done:\n",
        "\t\t\tif players[0].score > players[1].score:\n",
        "\t\t\t\tprint(f\" Game over. {p1_bot} wins.\")\n",
        "\t\t\telif players[0].score < players[1].score:\n",
        "\t\t\t\tprint(f\" Game over. {p2_bot} wins.\")\n",
        "\t\t\telse:\n",
        "\t\t\t\tprint(\"Game over. It's a tie.\")\n",
        "\t\t\tsleep(3)\n",
        "\t\t\tbreak\n",
        "\n",
        "\t\tturn += 1 # update turn tracker\n",
        "\n",
        "\t\tsleep(1) # helps with displaying the game"
      ],
      "execution_count": null,
      "outputs": [
        {
          "output_type": "error",
          "ename": "KeyError",
          "evalue": "ignored",
          "traceback": [
            "\u001b[0;31m---------------------------------------------------------------------------\u001b[0m",
            "\u001b[0;31mKeyError\u001b[0m                                  Traceback (most recent call last)",
            "\u001b[0;32m<ipython-input-58-f4b05835766b>\u001b[0m in \u001b[0;36m<module>\u001b[0;34m()\u001b[0m\n\u001b[1;32m     35\u001b[0m                 \u001b[0;31m# perform the actions on the environment\u001b[0m\u001b[0;34m\u001b[0m\u001b[0;34m\u001b[0m\u001b[0;34m\u001b[0m\u001b[0m\n\u001b[1;32m     36\u001b[0m                 \u001b[0;31m# receive back the new information from the environment\u001b[0m\u001b[0;34m\u001b[0m\u001b[0;34m\u001b[0m\u001b[0;34m\u001b[0m\u001b[0m\n\u001b[0;32m---> 37\u001b[0;31m                 \u001b[0mstate\u001b[0m\u001b[0;34m,\u001b[0m \u001b[0mdone\u001b[0m\u001b[0;34m,\u001b[0m \u001b[0mplayers\u001b[0m\u001b[0;34m,\u001b[0m \u001b[0mbomb_list\u001b[0m \u001b[0;34m=\u001b[0m \u001b[0menv\u001b[0m\u001b[0;34m.\u001b[0m\u001b[0mstep\u001b[0m\u001b[0;34m(\u001b[0m\u001b[0mactions\u001b[0m\u001b[0;34m)\u001b[0m\u001b[0;34m\u001b[0m\u001b[0;34m\u001b[0m\u001b[0m\n\u001b[0m\u001b[1;32m     38\u001b[0m \u001b[0;34m\u001b[0m\u001b[0m\n\u001b[1;32m     39\u001b[0m                 \u001b[0;31m# render the game\u001b[0m\u001b[0;34m\u001b[0m\u001b[0;34m\u001b[0m\u001b[0;34m\u001b[0m\u001b[0m\n",
            "\u001b[0;32m/content/bm_multi_env.py\u001b[0m in \u001b[0;36mstep\u001b[0;34m(self, player_actions)\u001b[0m\n\u001b[1;32m    157\u001b[0m             \u001b[0maction\u001b[0m \u001b[0;34m=\u001b[0m \u001b[0mplayer_actions\u001b[0m\u001b[0;34m[\u001b[0m\u001b[0mplayer\u001b[0m\u001b[0;34m.\u001b[0m\u001b[0mnumber\u001b[0m\u001b[0;34m]\u001b[0m\u001b[0;34m\u001b[0m\u001b[0;34m\u001b[0m\u001b[0m\n\u001b[1;32m    158\u001b[0m             \u001b[0;31m# get player's new position if action is taken\u001b[0m\u001b[0;34m\u001b[0m\u001b[0;34m\u001b[0m\u001b[0;34m\u001b[0m\u001b[0m\n\u001b[0;32m--> 159\u001b[0;31m             \u001b[0mnew_position\u001b[0m \u001b[0;34m=\u001b[0m \u001b[0mtuple\u001b[0m\u001b[0;34m(\u001b[0m\u001b[0;34m[\u001b[0m\u001b[0msum\u001b[0m\u001b[0;34m(\u001b[0m\u001b[0mx\u001b[0m\u001b[0;34m)\u001b[0m \u001b[0;32mfor\u001b[0m \u001b[0mx\u001b[0m \u001b[0;32min\u001b[0m \u001b[0mzip\u001b[0m\u001b[0;34m(\u001b[0m\u001b[0mself\u001b[0m\u001b[0;34m.\u001b[0m\u001b[0mACTIONS_DICT\u001b[0m\u001b[0;34m[\u001b[0m\u001b[0mplayer_actions\u001b[0m\u001b[0;34m[\u001b[0m\u001b[0mplayer\u001b[0m\u001b[0;34m.\u001b[0m\u001b[0mnumber\u001b[0m\u001b[0;34m]\u001b[0m\u001b[0;34m]\u001b[0m\u001b[0;34m,\u001b[0m\u001b[0mplayer\u001b[0m\u001b[0;34m.\u001b[0m\u001b[0mprev_position\u001b[0m\u001b[0;34m)\u001b[0m\u001b[0;34m]\u001b[0m\u001b[0;34m)\u001b[0m\u001b[0;34m\u001b[0m\u001b[0;34m\u001b[0m\u001b[0m\n\u001b[0m\u001b[1;32m    160\u001b[0m \u001b[0;34m\u001b[0m\u001b[0m\n\u001b[1;32m    161\u001b[0m             \u001b[0;32mif\u001b[0m \u001b[0mself\u001b[0m\u001b[0;34m.\u001b[0m\u001b[0mcheck_if_valid\u001b[0m\u001b[0;34m(\u001b[0m\u001b[0maction\u001b[0m\u001b[0;34m,\u001b[0m \u001b[0mplayer\u001b[0m\u001b[0;34m.\u001b[0m\u001b[0mprev_position\u001b[0m\u001b[0;34m,\u001b[0m \u001b[0mnew_position\u001b[0m\u001b[0;34m)\u001b[0m\u001b[0;34m:\u001b[0m\u001b[0;34m\u001b[0m\u001b[0;34m\u001b[0m\u001b[0m\n",
            "\u001b[0;31mKeyError\u001b[0m: None"
          ]
        }
      ]
    },
    {
      "cell_type": "markdown",
      "metadata": {
        "id": "pE__tRWqB2P7",
        "colab_type": "text"
      },
      "source": [
        "Congratulations! 🥈\n",
        "\n",
        "Getting to this point, you've learnt how to interact with the environment, and implement some logic for your bot. This is an impressive achievement and we're super thankful for you having made it this far. Feel free to skip to the 'Next Steps' section, or check out Level 3 if you're up for a bigger challenge!"
      ]
    },
    {
      "cell_type": "markdown",
      "metadata": {
        "id": "kN2ESd6NtPtr",
        "colab_type": "text"
      },
      "source": [
        "# Level 3: Applying a Heuristic (Optional) 🥇\n",
        "\n",
        "The bot you've been playing up against until now has been using some basic artificial intelligence techniques to look one step ahead into the future, and select the best move to play according to a set of pre-defined heuristics.\n",
        "\n",
        "For example, we assign the following configuration a **positive reward** because we like that the bomb is right next to a block, and we are not at risk of being caught in the crossfire:\n",
        "\n",
        "![Good heuristic - try refreshing the page to load the image correctly](https://drive.google.com/uc?id=1iMKgR7UnAz_Mbjao2VjSxgUnI3TBqVPY)\n",
        "\n",
        "In contrast, we assign the following configuration a **negative reward** because not only is the bomb not even placed near the block, we're also at risk of hurting ourselves:\n",
        "\n",
        "![Bad heuristic - try refreshing the page to load the image correctly](https://drive.google.com/uc?id=1HVMWnxYhPyNC92OkId5o4ugx2FF46O20)\n",
        "\n",
        "Our 'one-step lookahead' bot uses a list of these configurations or **heuristics** to decide where to move. It's a bit more complex than the previous bot, and not necessarily the most optimal which is why we've marked this section optional (you might have noticed it making it some odd moves). If you're interested in checking it out, you can browse through the code on the left side of this Colab in the 'Files' section. 👈 The agent is called 'lookahead_agent.py'. \n",
        "\n",
        "We challenge you to try and come up with a strategy to beat our Coder One bot!\n"
      ]
    },
    {
      "cell_type": "markdown",
      "metadata": {
        "id": "get_5eD5tVJZ",
        "colab_type": "text"
      },
      "source": [
        "# Next Steps 🏆\n",
        "\n",
        "Amazing job getting here! The strategies we've provided here are just for guidance. Feel free to try your hand at coming up with your own strategies. And if you manage to beat our \"Lookahead Bot\"... let us know!\n",
        "\n",
        "You're also welcome to check out the game environment code and play around as you wish. (All the files are on the left side of this notebook 👈)."
      ]
    },
    {
      "cell_type": "markdown",
      "metadata": {
        "id": "jUPMoQeKRg4a",
        "colab_type": "text"
      },
      "source": [
        "\n",
        "# A big thank you from the Coder One team 🙏\n",
        "\n",
        "Thank you for taking the time to try out an Alpha demo of our first original AI multiplayer game. 💛 We know you must have come across a bug or two (or many more than that), so we really appreciate your patience with us!\n",
        "\n",
        "We'd love to get your feedback on how you went. If you have 5 minutes, we'd really appreciate it if you could fill out the survey we linked in the email with instructions for this Alpha test, or by going here: [**SURVEY**](https://form.typeform.com/to/SA1knDos#email=blank).\n",
        "\n",
        "If you'd be willing to have a 15-minute chat with us, we'd love to learn more about you and better understand what you'd be looking for in participating in our 'AI Sports' challenges. Just book a time in with us here: [**CALENDLY LINK**](https://calendly.com/coder-one/15min). In return, we'll offer you some free custom swag at our upcoming [AI Sports](https://gocoder.one/aisports) event!\n",
        "\n",
        "Thanks again for your help! 🙏\n",
        "\n",
        "If you had any issues, questions or suggestions, feel free to reach us at hello@coderone.co. \n",
        "\n",
        "We'd love to bring you along with us on our early journey. Just reach out and say hi, or stay in touch by following us at our socials:\n",
        "\n",
        "*   [Twitter](https://twitter.com/gocoderone)\n",
        "*   [Instagram](https://instagram.com/gocoderone)\n",
        "*   [Facebook](https://facebook.com/gocoderone)\n",
        "*   [LinkedIn](https://www.linkedin.com/company/42840202)\n",
        "\n",
        "See you around! 👋\n",
        "\n",
        "The Coder One team"
      ]
    }
  ]
}